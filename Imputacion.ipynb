{
  "nbformat": 4,
  "nbformat_minor": 0,
  "metadata": {
    "colab": {
      "provenance": []
    },
    "kernelspec": {
      "name": "python3",
      "display_name": "Python 3"
    },
    "language_info": {
      "name": "python"
    }
  },
  "cells": [
    {
      "cell_type": "code",
      "execution_count": null,
      "metadata": {
        "id": "nPHtP7BtidO_"
      },
      "outputs": [],
      "source": [
        "import numpy as np\n",
        "\n",
        "# Crear un conjunto de datos de ejemplo con valores entre 0 y 1\n",
        "data = np.random.rand(1000, 10)  # 1000 muestras, 10 características\n",
        "\n",
        "# Introducir valores faltantes de manera aleatoria\n",
        "np.random.seed(0)  # Para reproducibilidad\n",
        "missing_rate = 0.1  # 10% de los datos serán NaN\n",
        "missing_indices = np.random.choice(data.size, int(data.size * missing_rate), replace=False)\n",
        "data.ravel()[missing_indices] = np.nan\n"
      ]
    },
    {
      "cell_type": "code",
      "source": [
        "data"
      ],
      "metadata": {
        "colab": {
          "base_uri": "https://localhost:8080/"
        },
        "id": "3xeXp0c3t8T-",
        "outputId": "3156c4cd-9584-44d7-d4e8-6242f5e43c8f"
      },
      "execution_count": null,
      "outputs": [
        {
          "output_type": "execute_result",
          "data": {
            "text/plain": [
              "array([[0.03982538, 0.07228576, 0.1711346 , ..., 0.32083684, 0.9861158 ,\n",
              "               nan],\n",
              "       [0.01743876, 0.46308825, 0.91032387, ..., 0.3658271 , 0.95692361,\n",
              "        0.43061617],\n",
              "       [0.63438624, 0.63708537, 0.64339339, ..., 0.32227436, 0.11368474,\n",
              "        0.61024249],\n",
              "       ...,\n",
              "       [       nan,        nan, 0.57410623, ..., 0.57985432, 0.14963677,\n",
              "        0.77394809],\n",
              "       [       nan, 0.96589618, 0.27912795, ..., 0.55313806, 0.60292877,\n",
              "        0.20646839],\n",
              "       [0.43512049, 0.47039655, 0.16441548, ..., 0.98620729, 0.62292802,\n",
              "        0.54041139]])"
            ]
          },
          "metadata": {},
          "execution_count": 9
        }
      ]
    },
    {
      "cell_type": "code",
      "source": [
        "from keras.models import Model\n",
        "from keras.layers import Input, Dense\n",
        "\n",
        "# Definir el autoencoder\n",
        "input_dim = 10  # Número de características\n",
        "encoding_dim = 5  # Tamaño de la capa de compresión\n",
        "\n",
        "# Capa de entrada\n",
        "input_layer = Input(shape=(input_dim,))\n",
        "\n",
        "# Capa intermedia\n",
        "encoded = Dense(encoding_dim, activation='relu')(input_layer)\n",
        "\n",
        "# Capa de salida\n",
        "decoded = Dense(input_dim, activation='linear')(encoded)\n",
        "\n",
        "# Modelo del autoencoder\n",
        "autoencoder = Model(input_layer, decoded)\n",
        "\n",
        "# Compilar el modelo\n",
        "autoencoder.compile(optimizer='adam', loss='mean_squared_error')\n",
        "\n",
        "# Datos para entrenar el autoencoder\n",
        "# Aquí se usan los datos con valores faltantes\n",
        "x_train = data[~np.isnan(data).any(axis=1)]  # Seleccionar solo filas sin NaN\n",
        "\n",
        "# Entrenar el autoencoder\n",
        "autoencoder.fit(x_train, x_train, epochs=50, batch_size=32, shuffle=True)\n"
      ],
      "metadata": {
        "colab": {
          "base_uri": "https://localhost:8080/"
        },
        "id": "PqwBu-1gihDb",
        "outputId": "1e1f01ab-39ce-48ed-dbfc-971e3a474641"
      },
      "execution_count": null,
      "outputs": [
        {
          "output_type": "stream",
          "name": "stdout",
          "text": [
            "Epoch 1/50\n",
            "12/12 [==============================] - 1s 3ms/step - loss: 0.4437\n",
            "Epoch 2/50\n",
            "12/12 [==============================] - 0s 3ms/step - loss: 0.3945\n",
            "Epoch 3/50\n",
            "12/12 [==============================] - 0s 3ms/step - loss: 0.3547\n",
            "Epoch 4/50\n",
            "12/12 [==============================] - 0s 3ms/step - loss: 0.3214\n",
            "Epoch 5/50\n",
            "12/12 [==============================] - 0s 3ms/step - loss: 0.2940\n",
            "Epoch 6/50\n",
            "12/12 [==============================] - 0s 4ms/step - loss: 0.2697\n",
            "Epoch 7/50\n",
            "12/12 [==============================] - 0s 3ms/step - loss: 0.2472\n",
            "Epoch 8/50\n",
            "12/12 [==============================] - 0s 3ms/step - loss: 0.2245\n",
            "Epoch 9/50\n",
            "12/12 [==============================] - 0s 3ms/step - loss: 0.2000\n",
            "Epoch 10/50\n",
            "12/12 [==============================] - 0s 3ms/step - loss: 0.1760\n",
            "Epoch 11/50\n",
            "12/12 [==============================] - 0s 3ms/step - loss: 0.1552\n",
            "Epoch 12/50\n",
            "12/12 [==============================] - 0s 3ms/step - loss: 0.1394\n",
            "Epoch 13/50\n",
            "12/12 [==============================] - 0s 3ms/step - loss: 0.1273\n",
            "Epoch 14/50\n",
            "12/12 [==============================] - 0s 3ms/step - loss: 0.1184\n",
            "Epoch 15/50\n",
            "12/12 [==============================] - 0s 3ms/step - loss: 0.1114\n",
            "Epoch 16/50\n",
            "12/12 [==============================] - 0s 3ms/step - loss: 0.1058\n",
            "Epoch 17/50\n",
            "12/12 [==============================] - 0s 3ms/step - loss: 0.1012\n",
            "Epoch 18/50\n",
            "12/12 [==============================] - 0s 2ms/step - loss: 0.0972\n",
            "Epoch 19/50\n",
            "12/12 [==============================] - 0s 3ms/step - loss: 0.0938\n",
            "Epoch 20/50\n",
            "12/12 [==============================] - 0s 3ms/step - loss: 0.0909\n",
            "Epoch 21/50\n",
            "12/12 [==============================] - 0s 3ms/step - loss: 0.0885\n",
            "Epoch 22/50\n",
            "12/12 [==============================] - 0s 3ms/step - loss: 0.0864\n",
            "Epoch 23/50\n",
            "12/12 [==============================] - 0s 3ms/step - loss: 0.0847\n",
            "Epoch 24/50\n",
            "12/12 [==============================] - 0s 3ms/step - loss: 0.0831\n",
            "Epoch 25/50\n",
            "12/12 [==============================] - 0s 3ms/step - loss: 0.0818\n",
            "Epoch 26/50\n",
            "12/12 [==============================] - 0s 3ms/step - loss: 0.0806\n",
            "Epoch 27/50\n",
            "12/12 [==============================] - 0s 3ms/step - loss: 0.0795\n",
            "Epoch 28/50\n",
            "12/12 [==============================] - 0s 3ms/step - loss: 0.0786\n",
            "Epoch 29/50\n",
            "12/12 [==============================] - 0s 3ms/step - loss: 0.0778\n",
            "Epoch 30/50\n",
            "12/12 [==============================] - 0s 3ms/step - loss: 0.0771\n",
            "Epoch 31/50\n",
            "12/12 [==============================] - 0s 4ms/step - loss: 0.0765\n",
            "Epoch 32/50\n",
            "12/12 [==============================] - 0s 3ms/step - loss: 0.0759\n",
            "Epoch 33/50\n",
            "12/12 [==============================] - 0s 3ms/step - loss: 0.0753\n",
            "Epoch 34/50\n",
            "12/12 [==============================] - 0s 3ms/step - loss: 0.0748\n",
            "Epoch 35/50\n",
            "12/12 [==============================] - 0s 3ms/step - loss: 0.0742\n",
            "Epoch 36/50\n",
            "12/12 [==============================] - 0s 2ms/step - loss: 0.0738\n",
            "Epoch 37/50\n",
            "12/12 [==============================] - 0s 3ms/step - loss: 0.0733\n",
            "Epoch 38/50\n",
            "12/12 [==============================] - 0s 3ms/step - loss: 0.0728\n",
            "Epoch 39/50\n",
            "12/12 [==============================] - 0s 3ms/step - loss: 0.0724\n",
            "Epoch 40/50\n",
            "12/12 [==============================] - 0s 3ms/step - loss: 0.0720\n",
            "Epoch 41/50\n",
            "12/12 [==============================] - 0s 3ms/step - loss: 0.0716\n",
            "Epoch 42/50\n",
            "12/12 [==============================] - 0s 3ms/step - loss: 0.0711\n",
            "Epoch 43/50\n",
            "12/12 [==============================] - 0s 3ms/step - loss: 0.0707\n",
            "Epoch 44/50\n",
            "12/12 [==============================] - 0s 3ms/step - loss: 0.0703\n",
            "Epoch 45/50\n",
            "12/12 [==============================] - 0s 3ms/step - loss: 0.0699\n",
            "Epoch 46/50\n",
            "12/12 [==============================] - 0s 4ms/step - loss: 0.0695\n",
            "Epoch 47/50\n",
            "12/12 [==============================] - 0s 4ms/step - loss: 0.0692\n",
            "Epoch 48/50\n",
            "12/12 [==============================] - 0s 5ms/step - loss: 0.0687\n",
            "Epoch 49/50\n",
            "12/12 [==============================] - 0s 4ms/step - loss: 0.0684\n",
            "Epoch 50/50\n",
            "12/12 [==============================] - 0s 3ms/step - loss: 0.0680\n"
          ]
        },
        {
          "output_type": "execute_result",
          "data": {
            "text/plain": [
              "<keras.src.callbacks.History at 0x78b4613b8d00>"
            ]
          },
          "metadata": {},
          "execution_count": 10
        }
      ]
    },
    {
      "cell_type": "code",
      "source": [],
      "metadata": {
        "id": "CpKptUE8BRaw"
      },
      "execution_count": null,
      "outputs": []
    },
    {
      "cell_type": "code",
      "source": [],
      "metadata": {
        "id": "GLMfLIalBSLJ"
      },
      "execution_count": null,
      "outputs": []
    },
    {
      "cell_type": "code",
      "source": [
        "# Preparar los datos con valores faltantes para la imputación\n",
        "x_missing = data.copy()\n",
        "x_missing"
      ],
      "metadata": {
        "colab": {
          "base_uri": "https://localhost:8080/"
        },
        "id": "tz4sT76glPqk",
        "outputId": "bcd14ee2-70f8-4a37-ac65-69f3d9821842"
      },
      "execution_count": null,
      "outputs": [
        {
          "output_type": "execute_result",
          "data": {
            "text/plain": [
              "array([[0.03982538, 0.07228576, 0.1711346 , ..., 0.32083684, 0.9861158 ,\n",
              "               nan],\n",
              "       [0.01743876, 0.46308825, 0.91032387, ..., 0.3658271 , 0.95692361,\n",
              "        0.43061617],\n",
              "       [0.63438624, 0.63708537, 0.64339339, ..., 0.32227436, 0.11368474,\n",
              "        0.61024249],\n",
              "       ...,\n",
              "       [       nan,        nan, 0.57410623, ..., 0.57985432, 0.14963677,\n",
              "        0.77394809],\n",
              "       [       nan, 0.96589618, 0.27912795, ..., 0.55313806, 0.60292877,\n",
              "        0.20646839],\n",
              "       [0.43512049, 0.47039655, 0.16441548, ..., 0.98620729, 0.62292802,\n",
              "        0.54041139]])"
            ]
          },
          "metadata": {},
          "execution_count": 11
        }
      ]
    },
    {
      "cell_type": "code",
      "source": [
        "x_missing[np.isnan(data)] = 0  # Reemplazar NaN por 0 para la imputación\n",
        "\n",
        "# Imputar los datos usando el autoencoder\n",
        "imputed_data = autoencoder.predict(x_missing)\n",
        "\n",
        "# Opcional: Reemplazar solo los valores faltantes en los datos originales\n",
        "data[np.isnan(data)] = imputed_data[np.isnan(data)]\n",
        "\n"
      ],
      "metadata": {
        "colab": {
          "base_uri": "https://localhost:8080/"
        },
        "id": "BoDfbAjQjSOC",
        "outputId": "cc863ed0-35b7-4cc9-ab2f-099ba517d118"
      },
      "execution_count": null,
      "outputs": [
        {
          "output_type": "stream",
          "name": "stdout",
          "text": [
            "32/32 [==============================] - 0s 2ms/step\n"
          ]
        }
      ]
    },
    {
      "cell_type": "code",
      "source": [
        "data"
      ],
      "metadata": {
        "colab": {
          "base_uri": "https://localhost:8080/"
        },
        "id": "vKY9syi1lqZO",
        "outputId": "94bcda76-3d1d-4053-e83d-2b076d4ef3fd"
      },
      "execution_count": null,
      "outputs": [
        {
          "output_type": "execute_result",
          "data": {
            "text/plain": [
              "array([[0.03982538, 0.07228576, 0.1711346 , ..., 0.32083684, 0.9861158 ,\n",
              "        0.31672955],\n",
              "       [0.01743876, 0.46308825, 0.91032387, ..., 0.3658271 , 0.95692361,\n",
              "        0.43061617],\n",
              "       [0.63438624, 0.63708537, 0.64339339, ..., 0.32227436, 0.11368474,\n",
              "        0.61024249],\n",
              "       ...,\n",
              "       [0.36535776, 0.62190121, 0.57410623, ..., 0.57985432, 0.14963677,\n",
              "        0.77394809],\n",
              "       [0.37703389, 0.96589618, 0.27912795, ..., 0.55313806, 0.60292877,\n",
              "        0.20646839],\n",
              "       [0.43512049, 0.47039655, 0.16441548, ..., 0.98620729, 0.62292802,\n",
              "        0.54041139]])"
            ]
          },
          "metadata": {},
          "execution_count": 13
        }
      ]
    },
    {
      "cell_type": "code",
      "source": [
        "x_missing"
      ],
      "metadata": {
        "colab": {
          "base_uri": "https://localhost:8080/"
        },
        "id": "sDiX1MD8lJJR",
        "outputId": "4bfb5cad-8dc1-45f8-fea6-87aab44a969c"
      },
      "execution_count": null,
      "outputs": [
        {
          "output_type": "execute_result",
          "data": {
            "text/plain": [
              "array([[0.03982538, 0.07228576, 0.1711346 , ..., 0.32083684, 0.9861158 ,\n",
              "        0.        ],\n",
              "       [0.01743876, 0.46308825, 0.91032387, ..., 0.3658271 , 0.95692361,\n",
              "        0.43061617],\n",
              "       [0.63438624, 0.63708537, 0.64339339, ..., 0.32227436, 0.11368474,\n",
              "        0.61024249],\n",
              "       ...,\n",
              "       [0.        , 0.        , 0.57410623, ..., 0.57985432, 0.14963677,\n",
              "        0.77394809],\n",
              "       [0.        , 0.96589618, 0.27912795, ..., 0.55313806, 0.60292877,\n",
              "        0.20646839],\n",
              "       [0.43512049, 0.47039655, 0.16441548, ..., 0.98620729, 0.62292802,\n",
              "        0.54041139]])"
            ]
          },
          "metadata": {},
          "execution_count": 32
        }
      ]
    },
    {
      "cell_type": "code",
      "source": [
        "data"
      ],
      "metadata": {
        "colab": {
          "base_uri": "https://localhost:8080/"
        },
        "id": "qZlm4eP7jaa_",
        "outputId": "54adbb9b-b565-4468-95f4-9b1013e30fd6"
      },
      "execution_count": null,
      "outputs": [
        {
          "output_type": "execute_result",
          "data": {
            "text/plain": [
              "array([[0.01053638, 0.95332285, 0.28091023, ..., 0.95380803, 0.86821043,\n",
              "        0.48360226],\n",
              "       [0.42171834, 0.98593723, 0.92187703, ..., 0.984519  , 0.30088927,\n",
              "        0.32369538],\n",
              "       [0.67204248, 0.89158604, 0.16239623, ..., 0.74398429, 0.6062905 ,\n",
              "        0.37713842],\n",
              "       ...,\n",
              "       [0.59051871, 0.47189397, 0.91960836, ..., 0.47362884, 0.38347511,\n",
              "        0.59855602],\n",
              "       [0.42516166, 0.61455477, 0.72307906, ..., 0.02682991, 0.78655738,\n",
              "        0.04415227],\n",
              "       [0.05230784, 0.91606186, 0.25677426, ..., 0.12862271, 0.97560067,\n",
              "        0.30632846]])"
            ]
          },
          "metadata": {},
          "execution_count": 15
        }
      ]
    },
    {
      "cell_type": "code",
      "source": [
        "imputed_data"
      ],
      "metadata": {
        "colab": {
          "base_uri": "https://localhost:8080/"
        },
        "id": "0HaId7rljVzt",
        "outputId": "678accff-a144-47da-bb31-9402a68a09f3"
      },
      "execution_count": null,
      "outputs": [
        {
          "output_type": "execute_result",
          "data": {
            "text/plain": [
              "array([[0.31538567, 0.4440121 , 0.32007483, ..., 0.41132188, 0.4250949 ,\n",
              "        0.48360226],\n",
              "       [0.48169148, 0.5885531 , 0.5217458 , ..., 0.5445213 , 0.46800596,\n",
              "        0.65790695],\n",
              "       [0.4756143 , 0.563111  , 0.5503214 , ..., 0.4061796 , 0.2662933 ,\n",
              "        0.34482428],\n",
              "       ...,\n",
              "       [0.5905187 , 0.47189397, 0.62518877, ..., 0.542838  , 0.56242   ,\n",
              "        0.55130774],\n",
              "       [0.42516166, 0.5481314 , 0.49306536, ..., 0.37782648, 0.24406669,\n",
              "        0.32190457],\n",
              "       [0.21676514, 0.3391744 , 0.18638867, ..., 0.36150125, 0.46712083,\n",
              "        0.44530076]], dtype=float32)"
            ]
          },
          "metadata": {},
          "execution_count": 16
        }
      ]
    }
  ]
}