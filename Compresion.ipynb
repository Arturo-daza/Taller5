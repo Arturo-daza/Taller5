{
  "nbformat": 4,
  "nbformat_minor": 0,
  "metadata": {
    "colab": {
      "provenance": []
    },
    "kernelspec": {
      "name": "python3",
      "display_name": "Python 3"
    },
    "language_info": {
      "name": "python"
    }
  },
  "cells": [
    {
      "cell_type": "markdown",
      "source": [
        "https://probablydance.com/2016/04/30/neural-networks-are-impressively-good-at-compression/#more-2435\n",
        "\n",
        "\n",
        "https://worldmodels.github.io/"
      ],
      "metadata": {
        "id": "ybfGSxqNtGLW"
      }
    },
    {
      "cell_type": "code",
      "execution_count": null,
      "metadata": {
        "id": "J6MGLM5VYmaZ"
      },
      "outputs": [],
      "source": [
        "from keras.models import Model\n",
        "from keras.layers import Input, Dense\n",
        "import numpy as np"
      ]
    },
    {
      "cell_type": "code",
      "source": [
        "# Número de bits de entrada y salida\n",
        "input_bits = 16\n",
        "\n",
        "# Número de bits en la capa intermedia (capa de compresión)\n",
        "compression_bits = 3\n",
        "\n",
        "# Capa de entrada\n",
        "input_layer = Input(shape=(input_bits,))\n",
        "\n",
        "# Capa de compresión (codificador)\n",
        "encoded = Dense(compression_bits, activation='relu')(input_layer)\n",
        "\n",
        "# Capa de reconstrucción (decodificador)\n",
        "decoded = Dense(input_bits, activation='sigmoid')(encoded)\n",
        "\n",
        "# Modelo completo del autoencoder\n",
        "autoencoder = Model(input_layer, decoded)\n",
        "\n",
        "# Modelo del codificador\n",
        "encoder = Model(input_layer, encoded)\n",
        "\n",
        "# Modelo del decodificador\n",
        "encoded_input = Input(shape=(compression_bits,))\n",
        "decoder_layer = autoencoder.layers[-1]\n",
        "decoder = Model(encoded_input, decoder_layer(encoded_input))\n",
        "\n",
        "# Compilar el modelo\n",
        "autoencoder.compile(optimizer='adam', loss='binary_crossentropy')\n",
        "\n",
        "# Generar datos de entrenamiento aleatorios\n",
        "x_train = np.random.randint(2, size=(10000, input_bits))\n",
        "\n",
        "# Entrenar el modelo\n",
        "autoencoder.fit(x_train, x_train, epochs=50, batch_size=32, shuffle=True)"
      ],
      "metadata": {
        "id": "1EOEFYNiYrDy",
        "colab": {
          "base_uri": "https://localhost:8080/"
        },
        "outputId": "901a4bf9-0647-4cb3-af76-a36bcdd817d3"
      },
      "execution_count": null,
      "outputs": [
        {
          "output_type": "stream",
          "name": "stdout",
          "text": [
            "Epoch 1/50\n",
            "313/313 [==============================] - 1s 1ms/step - loss: 0.6839\n",
            "Epoch 2/50\n",
            "313/313 [==============================] - 0s 1ms/step - loss: 0.6365\n",
            "Epoch 3/50\n",
            "313/313 [==============================] - 0s 1ms/step - loss: 0.6176\n",
            "Epoch 4/50\n",
            "313/313 [==============================] - 0s 1ms/step - loss: 0.6101\n",
            "Epoch 5/50\n",
            "313/313 [==============================] - 0s 1ms/step - loss: 0.6046\n",
            "Epoch 6/50\n",
            "313/313 [==============================] - 0s 1ms/step - loss: 0.6004\n",
            "Epoch 7/50\n",
            "313/313 [==============================] - 0s 1ms/step - loss: 0.5973\n",
            "Epoch 8/50\n",
            "313/313 [==============================] - 0s 1ms/step - loss: 0.5949\n",
            "Epoch 9/50\n",
            "313/313 [==============================] - 0s 1ms/step - loss: 0.5930\n",
            "Epoch 10/50\n",
            "313/313 [==============================] - 0s 1ms/step - loss: 0.5914\n",
            "Epoch 11/50\n",
            "313/313 [==============================] - 0s 1ms/step - loss: 0.5900\n",
            "Epoch 12/50\n",
            "313/313 [==============================] - 0s 1ms/step - loss: 0.5888\n",
            "Epoch 13/50\n",
            "313/313 [==============================] - 0s 1ms/step - loss: 0.5876\n",
            "Epoch 14/50\n",
            "313/313 [==============================] - 1s 2ms/step - loss: 0.5865\n",
            "Epoch 15/50\n",
            "313/313 [==============================] - 0s 1ms/step - loss: 0.5854\n",
            "Epoch 16/50\n",
            "313/313 [==============================] - 0s 2ms/step - loss: 0.5843\n",
            "Epoch 17/50\n",
            "313/313 [==============================] - 1s 2ms/step - loss: 0.5831\n",
            "Epoch 18/50\n",
            "313/313 [==============================] - 1s 2ms/step - loss: 0.5820\n",
            "Epoch 19/50\n",
            "313/313 [==============================] - 0s 1ms/step - loss: 0.5808\n",
            "Epoch 20/50\n",
            "313/313 [==============================] - 0s 1ms/step - loss: 0.5796\n",
            "Epoch 21/50\n",
            "313/313 [==============================] - 0s 1ms/step - loss: 0.5782\n",
            "Epoch 22/50\n",
            "313/313 [==============================] - 0s 1ms/step - loss: 0.5770\n",
            "Epoch 23/50\n",
            "313/313 [==============================] - 0s 1ms/step - loss: 0.5757\n",
            "Epoch 24/50\n",
            "313/313 [==============================] - 0s 1ms/step - loss: 0.5744\n",
            "Epoch 25/50\n",
            "313/313 [==============================] - 0s 1ms/step - loss: 0.5729\n",
            "Epoch 26/50\n",
            "313/313 [==============================] - 0s 1ms/step - loss: 0.5718\n",
            "Epoch 27/50\n",
            "313/313 [==============================] - 0s 1ms/step - loss: 0.5704\n",
            "Epoch 28/50\n",
            "313/313 [==============================] - 0s 1ms/step - loss: 0.5690\n",
            "Epoch 29/50\n",
            "313/313 [==============================] - 0s 1ms/step - loss: 0.5677\n",
            "Epoch 30/50\n",
            "313/313 [==============================] - 0s 1ms/step - loss: 0.5664\n",
            "Epoch 31/50\n",
            "313/313 [==============================] - 0s 1ms/step - loss: 0.5651\n",
            "Epoch 32/50\n",
            "313/313 [==============================] - 0s 1ms/step - loss: 0.5639\n",
            "Epoch 33/50\n",
            "313/313 [==============================] - 0s 1ms/step - loss: 0.5627\n",
            "Epoch 34/50\n",
            "313/313 [==============================] - 0s 1ms/step - loss: 0.5614\n",
            "Epoch 35/50\n",
            "313/313 [==============================] - 0s 1ms/step - loss: 0.5604\n",
            "Epoch 36/50\n",
            "313/313 [==============================] - 0s 1ms/step - loss: 0.5592\n",
            "Epoch 37/50\n",
            "313/313 [==============================] - 0s 1ms/step - loss: 0.5581\n",
            "Epoch 38/50\n",
            "313/313 [==============================] - 0s 1ms/step - loss: 0.5570\n",
            "Epoch 39/50\n",
            "313/313 [==============================] - 0s 1ms/step - loss: 0.5562\n",
            "Epoch 40/50\n",
            "313/313 [==============================] - 0s 1ms/step - loss: 0.5553\n",
            "Epoch 41/50\n",
            "313/313 [==============================] - 0s 1ms/step - loss: 0.5545\n",
            "Epoch 42/50\n",
            "313/313 [==============================] - 0s 1ms/step - loss: 0.5537\n",
            "Epoch 43/50\n",
            "313/313 [==============================] - 0s 1ms/step - loss: 0.5531\n",
            "Epoch 44/50\n",
            "313/313 [==============================] - 0s 1ms/step - loss: 0.5524\n",
            "Epoch 45/50\n",
            "313/313 [==============================] - 0s 1ms/step - loss: 0.5518\n",
            "Epoch 46/50\n",
            "313/313 [==============================] - 0s 1ms/step - loss: 0.5514\n",
            "Epoch 47/50\n",
            "313/313 [==============================] - 0s 2ms/step - loss: 0.5508\n",
            "Epoch 48/50\n",
            "313/313 [==============================] - 0s 1ms/step - loss: 0.5504\n",
            "Epoch 49/50\n",
            "313/313 [==============================] - 1s 2ms/step - loss: 0.5499\n",
            "Epoch 50/50\n",
            "313/313 [==============================] - 0s 2ms/step - loss: 0.5495\n"
          ]
        },
        {
          "output_type": "execute_result",
          "data": {
            "text/plain": [
              "<keras.src.callbacks.History at 0x7899bcec75e0>"
            ]
          },
          "metadata": {},
          "execution_count": 5
        }
      ]
    },
    {
      "cell_type": "code",
      "source": [
        "# Crear un ejemplo de datos de entrada para la predicción\n",
        "sample_data = np.random.randint(2, size=(1, input_bits))\n",
        "print(\"Datos de entrada de ejemplo:\")\n",
        "print(sample_data)\n",
        "\n",
        "# Usar el modelo del codificador para comprimir los datos\n",
        "encoded_data = encoder.predict(sample_data)\n",
        "print(\"Datos comprimidos:\")\n",
        "print(encoded_data)\n",
        "\n",
        "# Usar el modelo del decodificador para reconstruir los datos\n",
        "decoded_data = decoder.predict(encoded_data)\n",
        "print(\"Datos reconstruidos:\")\n",
        "print(decoded_data.round())"
      ],
      "metadata": {
        "id": "1jSzrOTvY-Ni",
        "colab": {
          "base_uri": "https://localhost:8080/"
        },
        "outputId": "f8b2b754-a001-46cc-99be-223cb369d02c"
      },
      "execution_count": null,
      "outputs": [
        {
          "output_type": "stream",
          "name": "stdout",
          "text": [
            "Datos de entrada de ejemplo:\n",
            "[[0 1 0 1 1 0 0 1 0 1 1 1 1 0 0 1]]\n",
            "1/1 [==============================] - 0s 33ms/step\n",
            "Datos comprimidos:\n",
            "[[3.0311785 3.6420233 9.55756  ]]\n",
            "1/1 [==============================] - 0s 32ms/step\n",
            "Datos reconstruidos:\n",
            "[[0. 1. 1. 1. 1. 0. 1. 1. 1. 1. 1. 0. 1. 0. 0. 1.]]\n"
          ]
        }
      ]
    }
  ]
}