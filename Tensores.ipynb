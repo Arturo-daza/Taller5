{
  "nbformat": 4,
  "nbformat_minor": 0,
  "metadata": {
    "colab": {
      "provenance": []
    },
    "kernelspec": {
      "name": "python3",
      "display_name": "Python 3"
    },
    "language_info": {
      "name": "python"
    }
  },
  "cells": [
    {
      "cell_type": "markdown",
      "source": [
        "# Tensores en Estructuras de Datos y Aplicaciones\n",
        "\n",
        "Un **tensor** es una estructura de datos que generaliza los conceptos de escalares, vectores y matrices a dimensiones superiores. Es fundamental en el ámbito de la ciencia de datos y el aprendizaje automático.\n",
        "\n",
        "## Conceptos Básicos de Tensores\n",
        "\n",
        "1. **Escalar (Tensor de Orden 0)**:\n",
        "   - Un solo número.\n",
        "   - Ejemplo: `7` o `-3.14`.\n",
        "\n",
        "2. **Vector (Tensor de Orden 1)**:\n",
        "   - Un arreglo de números.\n",
        "   - Ejemplo: `[1, 3, 5]`.\n",
        "\n",
        "3. **Matriz (Tensor de Orden 2)**:\n",
        "   - Una tabla de números (2D).\n",
        "   - Ejemplo: `[[1, 2], [3, 4]]`.\n",
        "\n",
        "4. **Tensor de Orden Superior**:\n",
        "   - Extensión a más de dos dimensiones.\n",
        "   - Ejemplo: Un tensor de orden 3 podría ser un cubo de números.\n",
        "\n",
        "## Aplicación de Tensores\n",
        "\n",
        "Los tensores son fundamentales en el aprendizaje automático y la ciencia de datos por varias razones:\n",
        "\n",
        "1. **Representación de Datos**:\n",
        "   - Escalares para etiquetas o valores simples.\n",
        "   - Vectores para características o series temporales.\n",
        "   - Matrices para imágenes en escala de grises.\n",
        "   - Tensores de orden 3 para imágenes a color (canales RGB).\n",
        "   - Tensores de mayor orden para videos o datos más complejos.\n",
        "\n",
        "2. **Operaciones de Aprendizaje Automático**:\n",
        "   - Muchas operaciones en redes neuronales y algoritmos de aprendizaje se expresan mediante operaciones de tensor, como la multiplicación de matrices.\n",
        "\n",
        "3. **Eficiencia Computacional**:\n",
        "   - Organización eficiente de los datos.\n",
        "   - Facilita operaciones matemáticas complejas.\n",
        "   - Aprovechamiento de hardware especializado (GPUs, TPUs).\n",
        "\n",
        "4. **Frameworks de Aprendizaje Profundo**:\n",
        "   - Estructuras de datos clave en TensorFlow, PyTorch, etc.\n",
        "   - Diseñados para manejar tensores de manera eficiente.\n",
        "\n",
        "En resumen, los tensores son fundamentales para manejar datos de múltiples dimensiones en procesamiento y análisis de datos, especialmente en aprendizaje automático y análisis de grandes volúmenes de datos.\n"
      ],
      "metadata": {
        "id": "2mFmqolqoNiv"
      }
    },
    {
      "cell_type": "markdown",
      "source": [
        "https://www.tensorflow.org/api_docs/python/tf/constant"
      ],
      "metadata": {
        "id": "kkK0G74Nx6c4"
      }
    },
    {
      "cell_type": "code",
      "source": [],
      "metadata": {
        "id": "9xf9COT5x7Z3"
      },
      "execution_count": null,
      "outputs": []
    },
    {
      "cell_type": "code",
      "source": [],
      "metadata": {
        "id": "lByO2BGnx7ku"
      },
      "execution_count": null,
      "outputs": []
    },
    {
      "cell_type": "code",
      "source": [
        "import tensorflow as tf\n",
        "import numpy as np"
      ],
      "metadata": {
        "id": "RVjUCV3YpW30"
      },
      "execution_count": null,
      "outputs": []
    },
    {
      "cell_type": "markdown",
      "source": [
        "**1. Escalar (Tensor de Orden 0)**\n",
        "> Un escalar es simplemente un número único. En términos de tensor, es un tensor de orden 0."
      ],
      "metadata": {
        "id": "SyGt3EOBpSTh"
      }
    },
    {
      "cell_type": "code",
      "execution_count": null,
      "metadata": {
        "colab": {
          "base_uri": "https://localhost:8080/"
        },
        "id": "A0KWmptjmawr",
        "outputId": "65771093-1cdd-4a25-cdc8-22b04815fcda"
      },
      "outputs": [
        {
          "output_type": "stream",
          "name": "stdout",
          "text": [
            "Escalar: 5\n"
          ]
        }
      ],
      "source": [
        "# Numpy\n",
        "escalar = np.array(5)\n",
        "print(\"Escalar:\", escalar)\n"
      ]
    },
    {
      "cell_type": "code",
      "source": [
        "# TensorFlow\n",
        "escalar = tf.constant(4)\n",
        "print(\"Escalar:\", escalar)"
      ],
      "metadata": {
        "colab": {
          "base_uri": "https://localhost:8080/"
        },
        "id": "GlQS-Bf3qv6R",
        "outputId": "5b613c54-180a-410a-fb81-90c86216740c"
      },
      "execution_count": null,
      "outputs": [
        {
          "output_type": "stream",
          "name": "stdout",
          "text": [
            "Escalar: tf.Tensor(4, shape=(), dtype=int32)\n"
          ]
        }
      ]
    },
    {
      "cell_type": "markdown",
      "source": [
        "**2. Vector (Tensor de Orden 1)**\n",
        "> Un vector es una lista de números, conocido como un tensor de orden 1.\n"
      ],
      "metadata": {
        "id": "c4ys1r-zpcKK"
      }
    },
    {
      "cell_type": "code",
      "source": [
        "# Numpy\n",
        "vector = np.array([1, 2, 3])\n",
        "print(\"Vector:\", vector)\n"
      ],
      "metadata": {
        "colab": {
          "base_uri": "https://localhost:8080/"
        },
        "id": "T_zllNBKo64M",
        "outputId": "bb4ab3be-33d8-44e6-c1b0-418895a37914"
      },
      "execution_count": null,
      "outputs": [
        {
          "output_type": "stream",
          "name": "stdout",
          "text": [
            "Vector: [1 2 3]\n"
          ]
        }
      ]
    },
    {
      "cell_type": "code",
      "source": [
        "# TensorFlow\n",
        "vector = tf.constant([1, 2, 3])\n",
        "print(\"Vector:\", vector)"
      ],
      "metadata": {
        "colab": {
          "base_uri": "https://localhost:8080/"
        },
        "id": "hCKDd_seq6kh",
        "outputId": "c79d12b2-60bd-436b-bee0-42d2594b56c4"
      },
      "execution_count": null,
      "outputs": [
        {
          "output_type": "stream",
          "name": "stdout",
          "text": [
            "Vector: tf.Tensor([1 2 3], shape=(3,), dtype=int32)\n"
          ]
        }
      ]
    },
    {
      "cell_type": "markdown",
      "source": [
        "**3. Matriz (Tensor de Orden 2)**\n",
        "> Una matriz es una tabla de números (2 dimensiones), conocida como un tensor de orden 2."
      ],
      "metadata": {
        "id": "bykWGMn5piJc"
      }
    },
    {
      "cell_type": "code",
      "source": [
        "# Numpy\n",
        "matriz = np.array([[1, 2, 3], [4, 5, 6]])\n",
        "print(\"Matriz:\\n\", matriz)"
      ],
      "metadata": {
        "colab": {
          "base_uri": "https://localhost:8080/"
        },
        "id": "8MdYkJnSpOIH",
        "outputId": "adf9a061-1da7-4796-e23c-aa101080033c"
      },
      "execution_count": null,
      "outputs": [
        {
          "output_type": "stream",
          "name": "stdout",
          "text": [
            "Matriz:\n",
            " [[1 2 3]\n",
            " [4 5 6]]\n"
          ]
        }
      ]
    },
    {
      "cell_type": "code",
      "source": [
        "# TensorFlow\n",
        "matriz = tf.constant([[1, 2, 3], [4, 5, 6]])\n",
        "print(\"Matriz:\", matriz)"
      ],
      "metadata": {
        "colab": {
          "base_uri": "https://localhost:8080/"
        },
        "id": "QZCMEtqmrElp",
        "outputId": "f57b7220-ecd2-4bc3-e730-c16a727c4acf"
      },
      "execution_count": null,
      "outputs": [
        {
          "output_type": "stream",
          "name": "stdout",
          "text": [
            "Matriz: tf.Tensor(\n",
            "[[1 2 3]\n",
            " [4 5 6]], shape=(2, 3), dtype=int32)\n"
          ]
        }
      ]
    },
    {
      "cell_type": "markdown",
      "source": [
        "**4. Tensor de Orden 3**\n",
        "> Un tensor de orden 3 es como un cubo de números, a menudo utilizado en el contexto de imágenes a color (3 canales)."
      ],
      "metadata": {
        "id": "sswZj55Np62c"
      }
    },
    {
      "cell_type": "code",
      "source": [
        "# Numpy\n",
        "tensor_orden_3 = np.array([[[1, 2], [3, 4]], [[5, 6], [7, 8]]])\n",
        "print(\"Tensor de orden 3:\\n\", tensor_orden_3)\n"
      ],
      "metadata": {
        "colab": {
          "base_uri": "https://localhost:8080/"
        },
        "id": "DNbP9babqAyd",
        "outputId": "111bd209-feb1-4575-b57d-7e5a3d1d45b6"
      },
      "execution_count": null,
      "outputs": [
        {
          "output_type": "stream",
          "name": "stdout",
          "text": [
            "Tensor de orden 3:\n",
            " [[[1 2]\n",
            "  [3 4]]\n",
            "\n",
            " [[5 6]\n",
            "  [7 8]]]\n"
          ]
        }
      ]
    },
    {
      "cell_type": "code",
      "source": [
        "# TensorFlow\n",
        "tensor_orden_3 = tf.constant([[[1, 2], [3, 4]], [[5, 6], [7, 8]]])\n",
        "print(\"Tensor de orden 3:\", tensor_orden_3)"
      ],
      "metadata": {
        "colab": {
          "base_uri": "https://localhost:8080/"
        },
        "id": "mBwBVD-6rMgz",
        "outputId": "6c51dcc0-8235-4218-d10e-04fa4d102aff"
      },
      "execution_count": null,
      "outputs": [
        {
          "output_type": "stream",
          "name": "stdout",
          "text": [
            "Tensor de orden 3: tf.Tensor(\n",
            "[[[1 2]\n",
            "  [3 4]]\n",
            "\n",
            " [[5 6]\n",
            "  [7 8]]], shape=(2, 2, 2), dtype=int32)\n"
          ]
        }
      ]
    },
    {
      "cell_type": "markdown",
      "source": [
        "**5. Tensor de Orden 4**\n",
        "> Los tensores de orden 4 son utilizados frecuentemente en aplicaciones como redes neuronales, donde pueden representar, por ejemplo, un lote de imágenes a color."
      ],
      "metadata": {
        "id": "QEgM6ILzqMKH"
      }
    },
    {
      "cell_type": "code",
      "source": [
        "# Numpy\n",
        "tensor_orden_4 = np.array([[[[1, 2], [3, 4]], [[5, 6], [7, 8]]], [[[9, 10], [11, 12]], [[13, 14], [15, 16]]]])\n",
        "print(\"Tensor de orden 4:\\n\", tensor_orden_4)"
      ],
      "metadata": {
        "colab": {
          "base_uri": "https://localhost:8080/"
        },
        "id": "sVf5lwyGqS-d",
        "outputId": "91820723-c8dd-458c-8b90-7934cec4643a"
      },
      "execution_count": null,
      "outputs": [
        {
          "output_type": "stream",
          "name": "stdout",
          "text": [
            "Tensor de orden 4:\n",
            " [[[[ 1  2]\n",
            "   [ 3  4]]\n",
            "\n",
            "  [[ 5  6]\n",
            "   [ 7  8]]]\n",
            "\n",
            "\n",
            " [[[ 9 10]\n",
            "   [11 12]]\n",
            "\n",
            "  [[13 14]\n",
            "   [15 16]]]]\n"
          ]
        }
      ]
    },
    {
      "cell_type": "code",
      "source": [
        "# TensorFlow\n",
        "tensor_orden_4 = tf.constant([[[[1, 2], [3, 4]], [[5, 6], [7, 8]]], [[[9, 10], [11, 12]], [[13, 14], [15, 16]]]])\n",
        "print(\"Tensor de orden 4:\", tensor_orden_4)\n"
      ],
      "metadata": {
        "colab": {
          "base_uri": "https://localhost:8080/"
        },
        "id": "aTNtMDoyrYnK",
        "outputId": "ddef630d-e03d-4607-ff2f-2c07df457998"
      },
      "execution_count": null,
      "outputs": [
        {
          "output_type": "stream",
          "name": "stdout",
          "text": [
            "Tensor de orden 4: tf.Tensor(\n",
            "[[[[ 1  2]\n",
            "   [ 3  4]]\n",
            "\n",
            "  [[ 5  6]\n",
            "   [ 7  8]]]\n",
            "\n",
            "\n",
            " [[[ 9 10]\n",
            "   [11 12]]\n",
            "\n",
            "  [[13 14]\n",
            "   [15 16]]]], shape=(2, 2, 2, 2), dtype=int32)\n"
          ]
        }
      ]
    },
    {
      "cell_type": "markdown",
      "source": [
        "## **Casos Practicos**"
      ],
      "metadata": {
        "id": "qnq_5A9TsZKT"
      }
    },
    {
      "cell_type": "code",
      "source": [
        "import numpy as np\n",
        "import matplotlib.pyplot as plt\n",
        "\n",
        "imagen = np.zeros((5, 5))\n",
        "\n",
        "imagen[2, 2] = 1\n",
        "\n",
        "\n",
        "plt.imshow(imagen, cmap='gray')\n",
        "plt.show()\n",
        "imagen\n"
      ],
      "metadata": {
        "colab": {
          "base_uri": "https://localhost:8080/",
          "height": 517
        },
        "id": "-kJ09bVCylPX",
        "outputId": "bb971de6-7cd8-40e5-dc7c-bd60146a6d72"
      },
      "execution_count": null,
      "outputs": [
        {
          "output_type": "display_data",
          "data": {
            "text/plain": [
              "<Figure size 640x480 with 1 Axes>"
            ],
            "image/png": "[encoded data removed]"
          },
          "metadata": {}
        },
        {
          "output_type": "execute_result",
          "data": {
            "text/plain": [
              "array([[0., 0., 0., 0., 0.],\n",
              "       [0., 0., 0., 0., 0.],\n",
              "       [0., 0., 1., 0., 0.],\n",
              "       [0., 0., 0., 0., 0.],\n",
              "       [0., 0., 0., 0., 0.]])"
            ]
          },
          "metadata": {},
          "execution_count": 35
        }
      ]
    },
    {
      "cell_type": "code",
      "source": [
        "import numpy as np\n",
        "import matplotlib.pyplot as plt\n",
        "\n",
        "imagen_rgb = np.zeros((5, 5, 3))\n",
        "\n",
        "imagen_rgb[2, 2] = [1.5, .8, 0]\n",
        "imagen_rgb[2, 1] = [1, 0, 0]\n",
        "imagen_rgb[2, 3] = [1, 0, 0]\n",
        "imagen_rgb[2, 4] = [1, 0, 0]\n",
        "\n",
        "plt.imshow(imagen_rgb)\n",
        "plt.show()\n"
      ],
      "metadata": {
        "colab": {
          "base_uri": "https://localhost:8080/",
          "height": 467
        },
        "id": "fD0cN_2Ty7DN",
        "outputId": "3bbfe06d-8660-42d5-8b44-118deb893a20"
      },
      "execution_count": null,
      "outputs": [
        {
          "output_type": "stream",
          "name": "stderr",
          "text": [
            "WARNING:matplotlib.image:Clipping input data to the valid range for imshow with RGB data ([0..1] for floats or [0..255] for integers).\n"
          ]
        },
        {
          "output_type": "display_data",
          "data": {
            "text/plain": [
              "<Figure size 640x480 with 1 Axes>"
            ],
            "image/png": "[encoded data removed]"
          },
          "metadata": {}
        }
      ]
    },
    {
      "cell_type": "code",
      "source": [
        "import tensorflow as tf\n",
        "import matplotlib.pyplot as plt\n",
        "\n",
        "imagen_rgb_tf = tf.zeros((5, 5, 3))\n",
        "\n",
        "imagen_rgb_tf = tf.tensor_scatter_nd_update(\n",
        "    imagen_rgb_tf,\n",
        "    indices=[[2, 2]],\n",
        "    updates=[[1.0, 0.0, 0.0]]\n",
        ")\n",
        "\n",
        "imagen_rgb_np = imagen_rgb_tf.numpy()\n",
        "\n",
        "plt.imshow(imagen_rgb_np)\n",
        "plt.show()\n"
      ],
      "metadata": {
        "colab": {
          "base_uri": "https://localhost:8080/",
          "height": 430
        },
        "id": "6DxIs07ezF7q",
        "outputId": "7e9fd80a-3dee-40d7-8ab7-f716cf318913"
      },
      "execution_count": null,
      "outputs": [
        {
          "output_type": "display_data",
          "data": {
            "text/plain": [
              "<Figure size 640x480 with 1 Axes>"
            ],
            "image/png": "[encoded data removed]"
          },
          "metadata": {}
        }
      ]
    },
    {
      "cell_type": "code",
      "source": [
        "from tensorflow import keras\n",
        "from tensorflow.keras import layers"
      ],
      "metadata": {
        "id": "q4XW6gnZqhWr"
      },
      "execution_count": null,
      "outputs": []
    },
    {
      "cell_type": "code",
      "source": [
        "# Crear un modelo secuencial\n",
        "model = keras.Sequential()\n",
        "\n",
        "# Añadir una capa densa (fully connected) como la capa de entrada\n",
        "model.add(layers.Dense(64, activation='relu', input_shape=(784,)))\n",
        "\n",
        "# Añadir otra capa densa como la capa oculta\n",
        "model.add(layers.Dense(64, activation='relu'))\n",
        "\n",
        "# Añadir la capa de salida\n",
        "model.add(layers.Dense(10, activation='softmax'))\n"
      ],
      "metadata": {
        "id": "SN3QGjlQsQ__"
      },
      "execution_count": null,
      "outputs": []
    }
  ]
}